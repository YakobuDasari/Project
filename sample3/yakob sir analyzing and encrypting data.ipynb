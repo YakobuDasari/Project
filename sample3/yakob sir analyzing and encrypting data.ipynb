{
 "cells": [
  {
   "cell_type": "code",
   "execution_count": 1,
   "metadata": {},
   "outputs": [
    {
     "name": "stdout",
     "output_type": "stream",
     "text": [
      "COMPARATIVE ANALYSIS OF INFORMATION SECURITY ALGORITHMS IN CLOUD COMPUTING \n",
      "\n",
      "\n",
      "\n",
      "ABSTRACT \n",
      "\n",
      "Information security is, preventing data from coming to, using, displaying, affecting, changing, assessing, documenting or decimation. Cloud computing is a kind of net-based term that allows to dynamically schedule property and information for PCs and various devices on shared PCs. This is a philosophy that empowers free, on-demand access through one another to a group of configurable searching properties. Safety has now been the likely key issue for the advancement of cloud computing. The core problem in the fruitful use of Cloud registration is solving the protection of cloud data successfully. One of the most well-known and protected public key cryptographic algorithm is RSA. RSA is widely used in cloud computing to ensure the confidentiality and stability of the information. The reliability of RSA remains in the complexity of skillfully factoring the huge numbers. GNFS (General Number Field Sieve) algorithm is the most effective algorithm to factorize the huge numbers even greater than 110 digits, and cloud computing would have groundbreaking ability to complete GNFS calculation. This paper investigates the computation of GNFS with Integer Factorization Procedure in Cloud Computing such as the investigation of cryptography to improve information security.\n",
      "\n",
      "Keywords- GNFS, Information security, integral factorization, cloud computing, ECC\n",
      "\n",
      "\n",
      "I. INTRODUCTION\n",
      "\n",
      "Cloud storage offers another distribution resource by storing various properties and distributing them to clients who rely on their requests. This also plays a vital role in open networks and governments (5 G) and cyber-physical and social computing (CPSC), state-of-the-art.Information storage and power systems offer a range of features and strategies for consumers to store & control their information in newcomer data farms that may be built miles away from the consumer going favorably around a region into the country. Cloud computing is based on distributing infrastructure to achieve perseverance and economies of scale, such as a cloud over a resource system (like the power framework). Putting information away in the cloud significantly lowers the storage heap of consumers and takes them to convenience, making it one of the most relevant service administrations along these \n"
     ]
    }
   ],
   "source": [
    "file = open(\"C:\\\\Users\\\\Ashu\\\\Desktop\\\\Project\\\\sample3\\\\sample3.txt\",\"r\",encoding='cp1252')\n",
    "file1= file.read()\n",
    "print(file1)\n",
    "#print(file)"
   ]
  },
  {
   "cell_type": "code",
   "execution_count": 2,
   "metadata": {},
   "outputs": [],
   "source": [
    "import string\n",
    "url = \"C://Users//Ashu//Desktop//Project//sample3//sample3.txt\"\n",
    "url2 = \"C://Users//Ashu//Desktop//Project//sample3//lowercase.txt\"\n",
    "new_file = open(url2, 'w')\n",
    "with open(url, 'r') as fileinput:\n",
    "    for line in fileinput:\n",
    "        #line1=line.read()\n",
    "        line2 = line.lower()\n",
    "        new_file.write(line2)\n",
    "        #print(new_file)\n",
    "        #print(line2)\n",
    "new_file.close()\n",
    "       "
   ]
  },
  {
   "cell_type": "code",
   "execution_count": 3,
   "metadata": {},
   "outputs": [],
   "source": [
    "import string\n",
    "#for i in range(1,1535):\n",
    "url = \"C:\\\\Users\\\\Ashu\\\\Desktop\\\\Project\\\\sample3\\\\lowercase.txt\"\n",
    "url2 = \"C:\\\\Users\\\\Ashu\\\\Desktop\\\\Project\\\\sample3\\\\specialchar.txt\"\n",
    "new_file = open(url2, 'w')\n",
    "remove = dict.fromkeys(map(ord,string.punctuation))\n",
    "with open(url,\"r\") as inputfile:\n",
    "    f = inputfile.read().translate(remove)\n",
    "    new_file.write(str(f))\n",
    "new_file.close()\n",
    "        #print(f)"
   ]
  },
  {
   "cell_type": "code",
   "execution_count": 4,
   "metadata": {},
   "outputs": [
    {
     "name": "stderr",
     "output_type": "stream",
     "text": [
      "[nltk_data] Downloading package punkt to\n",
      "[nltk_data]     C:\\Users\\Ashu\\AppData\\Roaming\\nltk_data...\n",
      "[nltk_data]   Package punkt is already up-to-date!\n"
     ]
    },
    {
     "data": {
      "text/plain": [
       "True"
      ]
     },
     "execution_count": 4,
     "metadata": {},
     "output_type": "execute_result"
    }
   ],
   "source": [
    "import nltk\n",
    "nltk.download('punkt')"
   ]
  },
  {
   "cell_type": "code",
   "execution_count": 5,
   "metadata": {},
   "outputs": [
    {
     "name": "stderr",
     "output_type": "stream",
     "text": [
      "[nltk_data] Downloading package averaged_perceptron_tagger to\n",
      "[nltk_data]     C:\\Users\\Ashu\\AppData\\Roaming\\nltk_data...\n",
      "[nltk_data]   Package averaged_perceptron_tagger is already up-to-\n",
      "[nltk_data]       date!\n"
     ]
    },
    {
     "data": {
      "text/plain": [
       "True"
      ]
     },
     "execution_count": 5,
     "metadata": {},
     "output_type": "execute_result"
    }
   ],
   "source": [
    "nltk.download('averaged_perceptron_tagger')"
   ]
  },
  {
   "cell_type": "code",
   "execution_count": 6,
   "metadata": {},
   "outputs": [
    {
     "name": "stderr",
     "output_type": "stream",
     "text": [
      "[nltk_data] Downloading package wordnet to\n",
      "[nltk_data]     C:\\Users\\Ashu\\AppData\\Roaming\\nltk_data...\n",
      "[nltk_data]   Package wordnet is already up-to-date!\n"
     ]
    },
    {
     "data": {
      "text/plain": [
       "True"
      ]
     },
     "execution_count": 6,
     "metadata": {},
     "output_type": "execute_result"
    }
   ],
   "source": [
    "nltk.download('wordnet')"
   ]
  },
  {
   "cell_type": "code",
   "execution_count": 14,
   "metadata": {},
   "outputs": [],
   "source": [
    "import nltk\n",
    "from nltk.stem import WordNetLemmatizer\n",
    "from nltk.corpus import wordnet\n",
    "\n",
    "class Splitter(object):\n",
    "    \n",
    "    def __init__(self):\n",
    "        self.splitter = nltk.data.load('tokenizers/punkt/english.pickle')\n",
    "        self.tokenizer = nltk.tokenize.TreebankWordTokenizer()\n",
    "\n",
    "    def split(self,text):\n",
    "        sentences = self.splitter.tokenize(text)\n",
    "        tokens = [self.tokenizer.tokenize(sent) for sent in sentences]\n",
    "        return tokens\n",
    "\n",
    "\n",
    "class LemmatizationWithPOSTagger(object):\n",
    "    def __init__(self):\n",
    "        pass\n",
    "    def get_wordnet_pos(self,treebank_tag):\n",
    "        \n",
    "        if treebank_tag.startswith('J'):\n",
    "            return wordnet.ADJ\n",
    "        elif treebank_tag.startswith('V'):\n",
    "            return wordnet.VERB\n",
    "        elif treebank_tag.startswith('N'):\n",
    "            return wordnet.NOUN\n",
    "        elif treebank_tag.startswith('R'):\n",
    "            return wordnet.ADV\n",
    "        else:\n",
    "            # As default pos in lemmatization is Noun\n",
    "            return wordnet.NOUN\n",
    "\n",
    "    def pos_tag(self,tokens):\n",
    "        \n",
    "        pos_tokens = [nltk.pos_tag(token) for token in tokens]\n",
    "\n",
    "        for pos in pos_tokens:       \n",
    "            pos_tokens =  [(lemmatizer.lemmatize(word,self.get_wordnet_pos(pos_tag))) for (word,pos_tag) in pos] \n",
    "            join = \" \".join(pos_tokens)\n",
    "        return join\n",
    "\n",
    "lemmatizer = WordNetLemmatizer()\n",
    "splitter = Splitter()\n",
    "lemmatization_using_pos_tagger = LemmatizationWithPOSTagger()\n",
    "#for i in range(1,1535):\n",
    "url = \"C:\\\\Users\\\\Ashu\\\\Desktop\\\\Project\\\\sample3\\\\specialchar.txt\"\n",
    "url1 = \"C:\\\\Users\\\\Ashu\\\\Desktop\\\\Project\\\\sample3\\\\lemmatization1.txt\"\n",
    "newfile = open(url1,\"w\")\n",
    "with open(url, \"r\") as f:\n",
    "    file = f.read()\n",
    "    tokens = splitter.split(file)\n",
    "    lemma_pos_token = lemmatization_using_pos_tagger.pos_tag(tokens)\n",
    "    newfile.write(lemma_pos_token)\n",
    "new_file.close()\n"
   ]
  },
  {
   "cell_type": "code",
   "execution_count": 15,
   "metadata": {},
   "outputs": [
    {
     "name": "stderr",
     "output_type": "stream",
     "text": [
      "[nltk_data] Downloading package stopwords to\n",
      "[nltk_data]     C:\\Users\\Ashu\\AppData\\Roaming\\nltk_data...\n",
      "[nltk_data]   Package stopwords is already up-to-date!\n"
     ]
    },
    {
     "data": {
      "text/plain": [
       "True"
      ]
     },
     "execution_count": 15,
     "metadata": {},
     "output_type": "execute_result"
    }
   ],
   "source": [
    "nltk.download('stopwords')"
   ]
  },
  {
   "cell_type": "code",
   "execution_count": 16,
   "metadata": {},
   "outputs": [],
   "source": [
    "import io\n",
    "from nltk.corpus import stopwords\n",
    "#from nltk.tokenize import word_tokenize\n",
    "#word_tokenize accepts a string as an input, not a file.\n",
    "#for i\n",
    "stop_words = stopwords.words('english')\n",
    "\n",
    "\n",
    "url = \"C:\\\\Users\\\\Ashu\\\\Desktop\\\\Project\\\\sample3\\\\lemmatization1.txt\"\n",
    "url2 = \"C:\\\\Users\\\\Ashu\\\\Desktop\\\\Project\\\\sample3\\\\stopwords.txt\"\n",
    "file1 = open(url,\"r\")\n",
    "line = file1.read()# Use this to read file content as a stream:\n",
    "words = line.split()\n",
    "#stop_words = set(stopwords.words('english'))\n",
    "for r in words:\n",
    "    if not r in stop_words:\n",
    "        appendFile = open(url2,'a')\n",
    "        appendFile.write(\" \"+r)\n",
    "        appendFile.close()\n"
   ]
  },
  {
   "cell_type": "code",
   "execution_count": 17,
   "metadata": {},
   "outputs": [],
   "source": [
    "doc_complete = []\n",
    "#for i in range(1,1948):\n",
    "url = open(\"C:\\\\Users\\\\Ashu\\\\Desktop\\\\Project\\\\sample3\\\\stopwords.txt\", 'r')\n",
    "paragraph = url.read()\n",
    "file1=[paragraph]\n",
    "#print(file1)\n",
    "#doc_complete = doc_complete.append(paragraph)\n",
    "#print(paragraph)\n",
    "\n",
    "from nltk.stem.wordnet import WordNetLemmatizer\n",
    "import string\n",
    "lemma = WordNetLemmatizer()\n",
    "def clean(doc):\n",
    "    normalized = \" \".join(lemma.lemmatize(word) for word in doc.split())\n",
    "    return normalized\n",
    "\n",
    "doc_clean = [clean(doc).split() for doc in file1] \n"
   ]
  },
  {
   "cell_type": "code",
   "execution_count": 18,
   "metadata": {},
   "outputs": [
    {
     "data": {
      "text/plain": [
       "[['comparative',\n",
       "  'analysis',\n",
       "  'information',\n",
       "  'security',\n",
       "  'algorithm',\n",
       "  'cloud',\n",
       "  'compute',\n",
       "  'abstract',\n",
       "  'information',\n",
       "  'security',\n",
       "  'prevent',\n",
       "  'data',\n",
       "  'come',\n",
       "  'use',\n",
       "  'display',\n",
       "  'affect',\n",
       "  'change',\n",
       "  'ass',\n",
       "  'document',\n",
       "  'decimation',\n",
       "  'cloud',\n",
       "  'computing',\n",
       "  'kind',\n",
       "  'netbased',\n",
       "  'term',\n",
       "  'allow',\n",
       "  'dynamically',\n",
       "  'schedule',\n",
       "  'property',\n",
       "  'information',\n",
       "  'pc',\n",
       "  'various',\n",
       "  'device',\n",
       "  'share',\n",
       "  'pc',\n",
       "  'philosophy',\n",
       "  'empowers',\n",
       "  'free',\n",
       "  'ondemand',\n",
       "  'access',\n",
       "  'one',\n",
       "  'another',\n",
       "  'group',\n",
       "  'configurable',\n",
       "  'search',\n",
       "  'property',\n",
       "  'safety',\n",
       "  'likely',\n",
       "  'key',\n",
       "  'issue',\n",
       "  'advancement',\n",
       "  'cloud',\n",
       "  'compute',\n",
       "  'core',\n",
       "  'problem',\n",
       "  'fruitful',\n",
       "  'use',\n",
       "  'cloud',\n",
       "  'registration',\n",
       "  'solve',\n",
       "  'protection',\n",
       "  'cloud',\n",
       "  'data',\n",
       "  'successfully',\n",
       "  'one',\n",
       "  'wellknown',\n",
       "  'protected',\n",
       "  'public',\n",
       "  'key',\n",
       "  'cryptographic',\n",
       "  'algorithm',\n",
       "  'rsa',\n",
       "  'rsa',\n",
       "  'widely',\n",
       "  'use',\n",
       "  'cloud',\n",
       "  'compute',\n",
       "  'ensure',\n",
       "  'confidentiality',\n",
       "  'stability',\n",
       "  'information',\n",
       "  'reliability',\n",
       "  'rsa',\n",
       "  'remain',\n",
       "  'complexity',\n",
       "  'skillfully',\n",
       "  'factor',\n",
       "  'huge',\n",
       "  'number',\n",
       "  'gnfs',\n",
       "  'general',\n",
       "  'number',\n",
       "  'field',\n",
       "  'sieve',\n",
       "  'algorithm',\n",
       "  'effective',\n",
       "  'algorithm',\n",
       "  'factorize',\n",
       "  'huge',\n",
       "  'number',\n",
       "  'even',\n",
       "  'great',\n",
       "  '110',\n",
       "  'digit',\n",
       "  'cloud',\n",
       "  'compute',\n",
       "  'would',\n",
       "  'groundbreaking',\n",
       "  'ability',\n",
       "  'complete',\n",
       "  'gnfs',\n",
       "  'calculation',\n",
       "  'paper',\n",
       "  'investigate',\n",
       "  'computation',\n",
       "  'gnfs',\n",
       "  'integer',\n",
       "  'factorization',\n",
       "  'procedure',\n",
       "  'cloud',\n",
       "  'compute',\n",
       "  'investigation',\n",
       "  'cryptography',\n",
       "  'improve',\n",
       "  'information',\n",
       "  'security',\n",
       "  'keywords',\n",
       "  'gnfs',\n",
       "  'information',\n",
       "  'security',\n",
       "  'integral',\n",
       "  'factorization',\n",
       "  'cloud',\n",
       "  'compute',\n",
       "  'ecc',\n",
       "  'introduction',\n",
       "  'cloud',\n",
       "  'storage',\n",
       "  'offer',\n",
       "  'another',\n",
       "  'distribution',\n",
       "  'resource',\n",
       "  'store',\n",
       "  'various',\n",
       "  'property',\n",
       "  'distribute',\n",
       "  'client',\n",
       "  'rely',\n",
       "  'request',\n",
       "  'also',\n",
       "  'play',\n",
       "  'vital',\n",
       "  'role',\n",
       "  'open',\n",
       "  'network',\n",
       "  'government',\n",
       "  '5',\n",
       "  'g',\n",
       "  'cyberphysical',\n",
       "  'social',\n",
       "  'compute',\n",
       "  'cpsc',\n",
       "  'stateoftheartinformation',\n",
       "  'storage',\n",
       "  'power',\n",
       "  'system',\n",
       "  'offer',\n",
       "  'range',\n",
       "  'feature',\n",
       "  'strategy',\n",
       "  'consumer',\n",
       "  'store',\n",
       "  'control',\n",
       "  'information',\n",
       "  'newcomer',\n",
       "  'data',\n",
       "  'farm',\n",
       "  'may',\n",
       "  'build',\n",
       "  'mile',\n",
       "  'away',\n",
       "  'consumer',\n",
       "  'go',\n",
       "  'favorably',\n",
       "  'around',\n",
       "  'region',\n",
       "  'country',\n",
       "  'cloud',\n",
       "  'compute',\n",
       "  'base',\n",
       "  'distribute',\n",
       "  'infrastructure',\n",
       "  'achieve',\n",
       "  'perseverance',\n",
       "  'economy',\n",
       "  'scale',\n",
       "  'cloud',\n",
       "  'resource',\n",
       "  'system',\n",
       "  'like',\n",
       "  'power',\n",
       "  'framework',\n",
       "  'put',\n",
       "  'information',\n",
       "  'away',\n",
       "  'cloud',\n",
       "  'significantly',\n",
       "  'lower',\n",
       "  'storage',\n",
       "  'heap',\n",
       "  'consumer',\n",
       "  'take',\n",
       "  'convenience',\n",
       "  'make',\n",
       "  'one',\n",
       "  'relevant',\n",
       "  'service',\n",
       "  'administration',\n",
       "  'along']]"
      ]
     },
     "execution_count": 18,
     "metadata": {},
     "output_type": "execute_result"
    }
   ],
   "source": [
    "doc_clean"
   ]
  },
  {
   "cell_type": "code",
   "execution_count": 19,
   "metadata": {},
   "outputs": [],
   "source": [
    "import gensim\n",
    "from gensim import corpora\n",
    "\n",
    "# Creating the term dictionary of our courpus, where every unique term is assigned an index. dictionary = corpora.Dictionary(doc_clean)\n",
    "dictionary = corpora.Dictionary(doc_clean)\n",
    "# Converting list of documents (corpus) into Document Term Matrix using dictionary prepared above.\n",
    "doc_term_matrix = [dictionary.doc2bow(doc) for doc in doc_clean]"
   ]
  },
  {
   "cell_type": "code",
   "execution_count": 20,
   "metadata": {},
   "outputs": [
    {
     "data": {
      "text/plain": [
       "[[(0, 1),\n",
       "  (1, 1),\n",
       "  (2, 1),\n",
       "  (3, 1),\n",
       "  (4, 1),\n",
       "  (5, 1),\n",
       "  (6, 1),\n",
       "  (7, 1),\n",
       "  (8, 1),\n",
       "  (9, 4),\n",
       "  (10, 1),\n",
       "  (11, 1),\n",
       "  (12, 1),\n",
       "  (13, 1),\n",
       "  (14, 2),\n",
       "  (15, 1),\n",
       "  (16, 1),\n",
       "  (17, 2),\n",
       "  (18, 1),\n",
       "  (19, 1),\n",
       "  (20, 1),\n",
       "  (21, 1),\n",
       "  (22, 1),\n",
       "  (23, 13),\n",
       "  (24, 1),\n",
       "  (25, 1),\n",
       "  (26, 1),\n",
       "  (27, 1),\n",
       "  (28, 1),\n",
       "  (29, 8),\n",
       "  (30, 1),\n",
       "  (31, 1),\n",
       "  (32, 1),\n",
       "  (33, 3),\n",
       "  (34, 1),\n",
       "  (35, 1),\n",
       "  (36, 1),\n",
       "  (37, 1),\n",
       "  (38, 1),\n",
       "  (39, 1),\n",
       "  (40, 1),\n",
       "  (41, 1),\n",
       "  (42, 3),\n",
       "  (43, 1),\n",
       "  (44, 1),\n",
       "  (45, 1),\n",
       "  (46, 1),\n",
       "  (47, 2),\n",
       "  (48, 1),\n",
       "  (49, 1),\n",
       "  (50, 1),\n",
       "  (51, 1),\n",
       "  (52, 1),\n",
       "  (53, 1),\n",
       "  (54, 1),\n",
       "  (55, 1),\n",
       "  (56, 1),\n",
       "  (57, 1),\n",
       "  (58, 2),\n",
       "  (59, 1),\n",
       "  (60, 1),\n",
       "  (61, 1),\n",
       "  (62, 1),\n",
       "  (63, 1),\n",
       "  (64, 1),\n",
       "  (65, 1),\n",
       "  (66, 1),\n",
       "  (67, 1),\n",
       "  (68, 1),\n",
       "  (69, 4),\n",
       "  (70, 1),\n",
       "  (71, 1),\n",
       "  (72, 1),\n",
       "  (73, 1),\n",
       "  (74, 1),\n",
       "  (75, 1),\n",
       "  (76, 2),\n",
       "  (77, 1),\n",
       "  (78, 8),\n",
       "  (79, 1),\n",
       "  (80, 1),\n",
       "  (81, 1),\n",
       "  (82, 1),\n",
       "  (83, 1),\n",
       "  (84, 1),\n",
       "  (85, 1),\n",
       "  (86, 2),\n",
       "  (87, 1),\n",
       "  (88, 1),\n",
       "  (89, 1),\n",
       "  (90, 1),\n",
       "  (91, 1),\n",
       "  (92, 1),\n",
       "  (93, 1),\n",
       "  (94, 1),\n",
       "  (95, 1),\n",
       "  (96, 1),\n",
       "  (97, 1),\n",
       "  (98, 3),\n",
       "  (99, 2),\n",
       "  (100, 1),\n",
       "  (101, 3),\n",
       "  (102, 1),\n",
       "  (103, 1),\n",
       "  (104, 2),\n",
       "  (105, 1),\n",
       "  (106, 1),\n",
       "  (107, 1),\n",
       "  (108, 2),\n",
       "  (109, 1),\n",
       "  (110, 1),\n",
       "  (111, 1),\n",
       "  (112, 3),\n",
       "  (113, 1),\n",
       "  (114, 1),\n",
       "  (115, 1),\n",
       "  (116, 1),\n",
       "  (117, 1),\n",
       "  (118, 1),\n",
       "  (119, 1),\n",
       "  (120, 1),\n",
       "  (121, 1),\n",
       "  (122, 1),\n",
       "  (123, 1),\n",
       "  (124, 1),\n",
       "  (125, 2),\n",
       "  (126, 1),\n",
       "  (127, 3),\n",
       "  (128, 1),\n",
       "  (129, 1),\n",
       "  (130, 1),\n",
       "  (131, 1),\n",
       "  (132, 4),\n",
       "  (133, 1),\n",
       "  (134, 1),\n",
       "  (135, 1),\n",
       "  (136, 1),\n",
       "  (137, 1),\n",
       "  (138, 1),\n",
       "  (139, 1),\n",
       "  (140, 1),\n",
       "  (141, 1),\n",
       "  (142, 3),\n",
       "  (143, 2),\n",
       "  (144, 1),\n",
       "  (145, 1),\n",
       "  (146, 2),\n",
       "  (147, 1),\n",
       "  (148, 1),\n",
       "  (149, 3),\n",
       "  (150, 2),\n",
       "  (151, 1),\n",
       "  (152, 1),\n",
       "  (153, 1),\n",
       "  (154, 1)]]"
      ]
     },
     "execution_count": 20,
     "metadata": {},
     "output_type": "execute_result"
    }
   ],
   "source": [
    "doc_term_matrix"
   ]
  },
  {
   "cell_type": "code",
   "execution_count": 21,
   "metadata": {},
   "outputs": [],
   "source": [
    "Lda = gensim.models.ldamodel.LdaModel\n",
    "\n",
    "# Running and Trainign LDA model on the document term matrix.\n",
    "ldamodel = Lda(doc_term_matrix, num_topics=2, id2word = dictionary, passes=50)"
   ]
  },
  {
   "cell_type": "code",
   "execution_count": 22,
   "metadata": {},
   "outputs": [
    {
     "name": "stdout",
     "output_type": "stream",
     "text": [
      "[(0, '0.046*\"cloud\" + 0.029*\"information\" + 0.029*\"compute\" + 0.015*\"security\" + 0.015*\"algorithm\" + 0.015*\"gnfs\" + 0.012*\"one\" + 0.012*\"consumer\" + 0.012*\"number\" + 0.012*\"property\"'), (1, '0.006*\"cloud\" + 0.006*\"compute\" + 0.006*\"information\" + 0.006*\"gnfs\" + 0.006*\"algorithm\" + 0.006*\"security\" + 0.006*\"data\" + 0.006*\"rsa\" + 0.006*\"use\" + 0.006*\"number\"')]\n"
     ]
    }
   ],
   "source": [
    "print(ldamodel.print_topics(num_topics=2, num_words=10))"
   ]
  },
  {
   "cell_type": "code",
   "execution_count": 23,
   "metadata": {},
   "outputs": [
    {
     "name": "stdout",
     "output_type": "stream",
     "text": [
      "[(0, '0.046*\"cloud\" + 0.029*\"information\" + 0.029*\"compute\" + 0.015*\"security\" + 0.015*\"algorithm\" + 0.015*\"gnfs\" + 0.012*\"one\" + 0.012*\"consumer\" + 0.012*\"number\" + 0.012*\"property\"'), (1, '0.006*\"cloud\" + 0.006*\"compute\" + 0.006*\"information\" + 0.006*\"gnfs\" + 0.006*\"algorithm\" + 0.006*\"security\" + 0.006*\"data\" + 0.006*\"rsa\" + 0.006*\"use\" + 0.006*\"number\"')]\n",
      "<_io.TextIOWrapper name='C:\\\\Users\\\\Ashu\\\\Desktop\\\\Project\\\\sample3\\\\lda1.txt' mode='w' encoding='cp1252'>\n"
     ]
    }
   ],
   "source": [
    "list1 = []\n",
    "f=open(\"C:\\\\Users\\\\Ashu\\\\Desktop\\\\Project\\\\sample3\\\\lda1.txt\",'w')\n",
    "list2 =(ldamodel.print_topics(num_topics=2, num_words=10))\n",
    "#print(list2)\n",
    "list2=str(list2)\n",
    "print(list2)\n",
    "f.write(list2)\n",
    "print(f)"
   ]
  },
  {
   "cell_type": "code",
   "execution_count": 24,
   "metadata": {},
   "outputs": [
    {
     "name": "stdout",
     "output_type": "stream",
     "text": [
      "cloud\n",
      "\n",
      "information\n",
      "\n",
      "compute\n",
      "\n",
      "security\n",
      "\n",
      "algorithm\n",
      "\n",
      "gnfs\n",
      "\n",
      "one\n",
      "\n",
      "consumer\n",
      "\n",
      "number\n",
      "\n",
      "property\n",
      "\n",
      "data\n",
      "\n",
      "rsa\n",
      "\n",
      "use\n",
      "\n"
     ]
    }
   ],
   "source": [
    "with open(\"C:\\\\Users\\\\Ashu\\\\Desktop\\\\Project\\\\sample3\\\\result3.csv\",'r') as in_file, open(\"C:\\\\Users\\\\Ashu\\\\Desktop\\\\Project\\\\sample3\\\\result31.csv\",'w',encoding=\"utf-8\") as out_file:\n",
    "    seen = set() # set for fast O(1) amortized lookup\n",
    "    for line in in_file:\n",
    "        if line in seen: continue # skip duplicate\n",
    "        print(line)\n",
    "        seen.add(line)\n",
    "        out_file.write(line)"
   ]
  },
  {
   "cell_type": "code",
   "execution_count": 3,
   "metadata": {},
   "outputs": [
    {
     "name": "stdout",
     "output_type": "stream",
     "text": [
      "{'cloud': 7, 'information': 5, 'security': 3, 'algorithm': 3, 'one': 2, 'consumer': 3, 'number': 2, 'property': 1, 'data': 3, 'use': 2}\n"
     ]
    }
   ],
   "source": [
    "accu_1 = {}\n",
    "file = \"ABSTRACT: Information security is, preventing data from coming to, using, displaying, affecting, changing, assessing, documenting or decimation. Cloud computing is a kind of net-based term that allows to dynamically schedule property and information for PCs and various devices on shared PCs. This is a philosophy that empowers free, on-demand access through one another to a group of configurable searching properties. Safety has now been the likely key issue for the advancement of cloud computing. The core problem in the fruitful use of Cloud registration is solving the protection of cloud data successfully. One of the most well-known and protected public key cryptographic algorithm is RSA. RSA is widely used in cloud computing to ensure the confidentiality and stability of the information. The reliability of RSA remains in the complexity of skillfully factoring the huge numbers. GNFS (General Number Field Sieve) algorithm is the most effective algorithm to factorize the huge numbers even greater than 110 digits, and cloud computing would have groundbreaking ability to complete GNFS calculation. This paper investigates the computation of GNFS with Integer Factorization Procedure in Cloud Computing such as the investigation of cryptography to improve information security. Keywords- GNFS, Information security, integral factorization, cloud computing, ECC I. INTRODUCTION Cloud storage offers another distribution resource by storing various properties and distributing them to clients who rely on their requests. This also plays a vital role in open networks and governments (5 G) and cyber-physical and social computing (CPSC), state-of-the-art.Information storage and power systems offer a range of features and strategies for consumers to store & control their information in newcomer data farms that may be built miles away from the consumer going favorably around a region into the country. Cloud computing is based on distributing infrastructure to achieve perseverance and economies of scale, such as a cloud over a resource system (like the power framework). Putting information away in the cloud significantly lowers the storage heap of consumers and takes them to convenience, making it one of the most relevant service administrations along these\"\n",
    "words = [\"cloud\",\"information\",\"compute\",\"security\",\"algorithm\",\"gnfs\",\"one\",\"consumer\",\"number\",\"property\",\"data\",\"rsa\",\"use\"]\n",
    "for i in words:\n",
    "    if i in file:\n",
    "        accu_1[i] = file.count(i)  \n",
    "print(accu_1)"
   ]
  },
  {
   "cell_type": "code",
   "execution_count": 25,
   "metadata": {},
   "outputs": [
    {
     "name": "stdout",
     "output_type": "stream",
     "text": [
      "COMPARATIVE ANALYSIS OF INFORMATION SECURITY ALGORITHMS IN CLOUD COMPUTING \n",
      "\n",
      "\n",
      "\n",
      "ABSTRACT \n",
      "\n",
      "Information s3word4 is, preventing s3word11 from coming to, using, displaying, affecting, changing, assessing, documenting or decimation. Cloud computing is a kind of net-based term that allows to dynamically schedule s3word10 and s3word2 for PCs and various devices on shared PCs. This is a philosophy that empowers free, on-demand access through s3word7 another to a group of configurable searching properties. Safety has now been the likely key issue for the advancement of s3word1 computing. The core problem in the fruitful s3word13 of Cloud registration is solving the protection of s3word1 s3word11 successfully. One of the most well-known and protected public key cryptographic s3word5 is RSA. RSA is widely s3word13d in s3word1 computing to ensure the confidentiality and stability of the s3word2. The reliability of RSA remains in the complexity of skillfully factoring the huge s3word9s. GNFS (General Number Field Sieve) s3word5 is the most effective s3word5 to factorize the huge s3word9s even greater than 110 digits, and s3word1 computing would have groundbreaking ability to complete GNFS calculation. This paper investigates the computation of GNFS with Integer Factorization Procedure in Cloud Computing such as the investigation of cryptography to improve s3word2 s3word4.\n",
      "\n",
      "Keywords- GNFS, Information s3word4, integral factorization, s3word1 computing, ECC\n",
      "\n",
      "\n",
      "I. INTRODUCTION\n",
      "\n",
      "Cloud storage offers another distribution resource by storing various properties and distributing them to clients who rely on their requests. This also plays a vital role in open networks and governments (5 G) and cyber-physical and social computing (CPSC), state-of-the-art.Information storage and power systems offer a range of features and strategies for s3word8s to store & control their s3word2 in newcomer s3word11 farms that may be built miles away from the s3word8 going favorably around a region into the country. Cloud computing is based on distributing infrastructure to achieve perseverance and economies of scale, such as a s3word1 over a resource system (like the power framework). Putting s3word2 away in the s3word1 significantly lowers the storage heap of s3word8s and takes them to convenience, making it s3word7 of the most relevant service administrations along these \n"
     ]
    }
   ],
   "source": [
    "x=[]\n",
    "y=[]\n",
    "with open(\"C:\\\\Users\\\\Ashu\\\\Desktop\\\\Project\\\\sample3\\\\result31.csv\", 'r') as filehandle:  \n",
    "    filecontents = filehandle.readlines()\n",
    "    for line in filecontents:\n",
    "        current_place = line[:-1]\n",
    "        x.append(current_place)\n",
    "\n",
    "with open(\"C:\\\\Users\\\\Ashu\\\\Desktop\\\\Project\\\\sample3\\\\Dictionary1.txt\", 'r') as filehandle:  \n",
    "    filecontents = filehandle.readlines()\n",
    "    for line in filecontents:\n",
    "        current_place = line[:-1]\n",
    "        y.append(current_place)\n",
    "\n",
    "s = open(\"C:\\\\Users\\\\Ashu\\\\Desktop\\\\Project\\\\sample3\\\\sample3.txt\").read()\n",
    "for i in range(len(x)):\n",
    "    s = s.replace(x[i],y[i])\n",
    "    f = open(\"C:\\\\Users\\\\Ashu\\\\Desktop\\\\Project\\\\sample3\\\\sample3.txt\", 'w')\n",
    "    f.write(s)\n",
    "    f.close()\n",
    "print(s)\n"
   ]
  },
  {
   "cell_type": "code",
   "execution_count": 26,
   "metadata": {},
   "outputs": [
    {
     "name": "stdout",
     "output_type": "stream",
     "text": [
      "COMPARATIVE ANALYSIS OF INFORMATION SECURITY ALGORITHMS IN CLOUD COMPUTING \n",
      "\n",
      "\n",
      "\n",
      "ABSTRACT \n",
      "\n",
      "Information security is, preventing cloud1 from coming to, using, displaying, affecting, changing, assessing, documenting or decimation. Cloud computing is a kind of net-based term that allows to dynamically schedule cloud0 and information for PCs and various devices on shared PCs. This is a philosophy that empowers free, on-demand access through one another to a group of configurable searching properties. Safety has now been the likely key issue for the advancement of cloud computing. The core problem in the fruitful cloud3 of Cloud registration is solving the protection of cloud cloud1 successfully. One of the most well-known and protected public key cryptographic algorithm is RSA. RSA is widely cloud3d in cloud computing to ensure the confidentiality and stability of the information. The reliability of RSA remains in the complexity of skillfully factoring the huge numbers. GNFS (General Number Field Sieve) algorithm is the most effective algorithm to factorize the huge numbers even greater than 110 digits, and cloud computing would have groundbreaking ability to complete GNFS calculation. This paper investigates the computation of GNFS with Integer Factorization Procedure in Cloud Computing such as the investigation of cryptography to improve information security.\n",
      "\n",
      "Keywords- GNFS, Information security, integral factorization, cloud computing, ECC\n",
      "\n",
      "\n",
      "I. INTRODUCTION\n",
      "\n",
      "Cloud storage offers another distribution resource by storing various properties and distributing them to clients who rely on their requests. This also plays a vital role in open networks and governments (5 G) and cyber-physical and social computing (CPSC), state-of-the-art.Information storage and power systems offer a range of features and strategies for consumers to store & control their information in newcomer cloud1 farms that may be built miles away from the consumer going favorably around a region into the country. Cloud computing is based on distributing infrastructure to achieve perseverance and economies of scale, such as a cloud over a resource system (like the power framework). Putting information away in the cloud significantly lowers the storage heap of consumers and takes them to convenience, making it one of the most relevant service administrations along these \n"
     ]
    }
   ],
   "source": [
    "x=[]\n",
    "y=[]\n",
    "with open(\"C:\\\\Users\\\\Ashu\\\\Desktop\\\\Project\\\\sample3\\\\result31.csv\", 'r') as filehandle:  \n",
    "    filecontents = filehandle.readlines()\n",
    "    for line in filecontents:\n",
    "        current_place = line[:-1]\n",
    "        x.append(current_place)\n",
    "\n",
    "with open(\"C:\\\\Users\\\\Ashu\\\\Desktop\\\\Project\\\\sample3\\\\Dictionary1.txt\", 'r') as filehandle:  \n",
    "    filecontents = filehandle.readlines()\n",
    "    for line in filecontents:\n",
    "        current_place = line[:-1]\n",
    "        y.append(current_place)\n",
    "\n",
    "s = open(\"C:\\\\Users\\\\Ashu\\\\Desktop\\\\Project\\\\sample3\\\\sample3.txt\").read()\n",
    "for i in range(len(x)):\n",
    "    s = s.replace(y[i],x[i])\n",
    "    f = open(\"C:\\\\Users\\\\Ashu\\\\Desktop\\\\Project\\\\sample3\\\\sample3.txt\", 'w')\n",
    "    f.write(s)\n",
    "    f.close()\n",
    "print(s)\n"
   ]
  },
  {
   "cell_type": "code",
   "execution_count": 6,
   "metadata": {},
   "outputs": [
    {
     "name": "stdout",
     "output_type": "stream",
     "text": [
      "{'cloud': 7, 'information': 5, 'security': 3, 'algorithm': 3, 'one': 2, 'consumer': 3, 'number': 2, 'property': 1, 'data': 3, 'use': 2}\n"
     ]
    }
   ],
   "source": [
    "accu_2 = {}\n",
    "file = \"ABSTRACT: Information security is, preventing data from coming to, using, displaying, affecting, changing, assessing, documenting or decimation. Cloud computing is a kind of net-based term that allows to dynamically schedule property and information for PCs and various devices on shared PCs. This is a philosophy that empowers free, on-demand access through one another to a group of configurable searching properties. Safety has now been the likely key issue for the advancement of cloud computing. The core problem in the fruitful use of Cloud registration is solving the protection of cloud data successfully. One of the most well-known and protected public key cryptographic algorithm is RSA. RSA is widely used in cloud computing to ensure the confidentiality and stability of the information. The reliability of RSA remains in the complexity of skillfully factoring the huge numbers. GNFS (General Number Field Sieve) algorithm is the most effective algorithm to factorize the huge numbers even greater than 110 digits, and cloud computing would have groundbreaking ability to complete GNFS calculation. This paper investigates the computation of GNFS with Integer Factorization Procedure in Cloud Computing such as the investigation of cryptography to improve information security. Keywords- GNFS, Information security, integral factorization, cloud computing, ECC I. INTRODUCTION Cloud storage offers another distribution resource by storing various properties and distributing them to clients who rely on their requests. This also plays a vital role in open networks and governments (5 G) and cyber-physical and social computing (CPSC), state-of-the-art.Information storage and power systems offer a range of features and strategies for consumers to store & control their information in newcomer data farms that may be built miles away from the consumer going favorably around a region into the country. Cloud computing is based on distributing infrastructure to achieve perseverance and economies of scale, such as a cloud over a resource system (like the power framework). Putting information away in the cloud significantly lowers the storage heap of consumers and takes them to convenience, making it one of the most relevant service administrations along these\"\n",
    "words = [\"cloud\",\"information\",\"compute\",\"security\",\"algorithm\",\"gnfs\",\"one\",\"consumer\",\"number\",\"property\",\"data\",\"rsa\",\"use\"]\n",
    "for i in words:\n",
    "    if i in file:\n",
    "        accu_2[i] = file.count(i)  \n",
    "print(accu_2)"
   ]
  },
  {
   "cell_type": "code",
   "execution_count": 8,
   "metadata": {},
   "outputs": [],
   "source": [
    "import matplotlib.pyplot as plt"
   ]
  },
  {
   "cell_type": "code",
   "execution_count": 9,
   "metadata": {},
   "outputs": [
    {
     "data": {
      "image/png": "[encoded data removed]",
      "text/plain": [
       "<Figure size 432x288 with 1 Axes>"
      ]
     },
     "metadata": {
      "needs_background": "light"
     },
     "output_type": "display_data"
    },
    {
     "data": {
      "image/png": "[encoded data removed]",
      "text/plain": [
       "<Figure size 432x288 with 1 Axes>"
      ]
     },
     "metadata": {
      "needs_background": "light"
     },
     "output_type": "display_data"
    }
   ],
   "source": [
    "val1 = accu_1.values()\n",
    "key1 = accu_1.keys()\n",
    "\n",
    "key2 = accu_2.keys()\n",
    "val2 = accu_2.values()\n",
    "\n",
    "plt.bar(key1,val1)\n",
    "plt.show()\n",
    "\n",
    "plt.bar(key2,val2)\n",
    "plt.show()"
   ]
  },
  {
   "cell_type": "code",
   "execution_count": null,
   "metadata": {},
   "outputs": [],
   "source": []
  }
 ],
 "metadata": {
  "kernelspec": {
   "display_name": "Python 3 (ipykernel)",
   "language": "python",
   "name": "python3"
  },
  "language_info": {
   "codemirror_mode": {
    "name": "ipython",
    "version": 3
   },
   "file_extension": ".py",
   "mimetype": "text/x-python",
   "name": "python",
   "nbconvert_exporter": "python",
   "pygments_lexer": "ipython3",
   "version": "3.9.7"
  }
 },
 "nbformat": 4,
 "nbformat_minor": 2
}
